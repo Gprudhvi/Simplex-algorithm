{
 "cells": [
  {
   "cell_type": "markdown",
   "metadata": {},
   "source": [
    "# Group: CS16BTECH11016,CS16BTECH11021,CS16BTECH11015"
   ]
  },
  {
   "cell_type": "code",
   "execution_count": 1,
   "metadata": {},
   "outputs": [],
   "source": [
    "import numpy as np"
   ]
  },
  {
   "cell_type": "markdown",
   "metadata": {},
   "source": [
    "# This file takes inequalities from file 'input.txt'"
   ]
  },
  {
   "cell_type": "code",
   "execution_count": 2,
   "metadata": {},
   "outputs": [
    {
     "name": "stdout",
     "output_type": "stream",
     "text": [
      "[[ 1.  1. 50.]\n",
      " [ 2.  1. 30.]]\n"
     ]
    }
   ],
   "source": [
    "inp  = np.genfromtxt(\"input.txt\",)\n",
    "print(inp)\n",
    "N = inp\n",
    "flag=0"
   ]
  },
  {
   "cell_type": "markdown",
   "metadata": {},
   "source": [
    "Separating 'b' from the taken input"
   ]
  },
  {
   "cell_type": "code",
   "execution_count": 3,
   "metadata": {},
   "outputs": [
    {
     "name": "stdout",
     "output_type": "stream",
     "text": [
      "[50. 30.]\n",
      "[[50.]\n",
      " [30.]]\n",
      "[[1. 1.]\n",
      " [2. 1.]]\n"
     ]
    }
   ],
   "source": [
    "b = N[:,-1]\n",
    "print(b)\n",
    "# b = b.transpose()\n",
    "b = b.reshape(-1,1)\n",
    "print(b)\n",
    "N = np.delete(N,-1,1)\n",
    "print(N)"
   ]
  },
  {
   "cell_type": "markdown",
   "metadata": {},
   "source": [
    "adding slack variables to inequalities to make them equations"
   ]
  },
  {
   "cell_type": "code",
   "execution_count": 4,
   "metadata": {},
   "outputs": [
    {
     "name": "stdout",
     "output_type": "stream",
     "text": [
      "[[1. 0.]\n",
      " [0. 1.]]\n",
      "[[1. 1. 1. 0.]\n",
      " [2. 1. 0. 1.]]\n"
     ]
    }
   ],
   "source": [
    "B = np.identity(len(inp), dtype = float) \n",
    "print(B)\n",
    "res = np.concatenate((N,B),axis=1)\n",
    "print(res)"
   ]
  },
  {
   "cell_type": "markdown",
   "metadata": {},
   "source": [
    "# objective function is taken from file 'objective.txt'"
   ]
  },
  {
   "cell_type": "code",
   "execution_count": 5,
   "metadata": {},
   "outputs": [
    {
     "name": "stdout",
     "output_type": "stream",
     "text": [
      "[2. 3.]\n"
     ]
    }
   ],
   "source": [
    "cn = np.genfromtxt(\"objective.txt\")\n",
    "print(cn)"
   ]
  },
  {
   "cell_type": "markdown",
   "metadata": {},
   "source": [
    "adding slack variables to objective function "
   ]
  },
  {
   "cell_type": "code",
   "execution_count": 6,
   "metadata": {},
   "outputs": [
    {
     "name": "stdout",
     "output_type": "stream",
     "text": [
      "[0. 0.]\n",
      "[2. 3. 0. 0.]\n"
     ]
    }
   ],
   "source": [
    "cb = np.zeros(len(inp))\n",
    "print(cb)\n",
    "z = np.concatenate((cn,cb),axis=0)\n",
    "print(z)\n",
    "B_inv = B"
   ]
  },
  {
   "cell_type": "code",
   "execution_count": 7,
   "metadata": {},
   "outputs": [
    {
     "name": "stdout",
     "output_type": "stream",
     "text": [
      "[0, 1]\n",
      "[2, 3]\n"
     ]
    }
   ],
   "source": [
    "xn=[]\n",
    "for i in range(len(N[0])):\n",
    "    xn.append(i)\n",
    "xb=[]\n",
    "for i in range(len(inp)):\n",
    "    xb.append(i+len(N[0]))\n",
    "    \n",
    "print(xn)\n",
    "print(xb)\n",
    "count = 0"
   ]
  },
  {
   "cell_type": "markdown",
   "metadata": {},
   "source": [
    "# Traverse through vertices to find optimal solution"
   ]
  },
  {
   "cell_type": "code",
   "execution_count": 8,
   "metadata": {},
   "outputs": [],
   "source": [
    "while(count<1000):\n",
    "   \n",
    "    n_array =res[:,xn[0]]\n",
    "    n_array = n_array.reshape(-1,1)\n",
    "    c_array =[]\n",
    "\n",
    "    for i in xn:\n",
    "        y = res[:,i]\n",
    "        y = y.reshape(-1,1)\n",
    "        n_array = np.concatenate((n_array,y),axis=1)\n",
    "        c_array.append(z[i])\n",
    "    n_array = np.delete(n_array,0,1)\n",
    "    c_array = np.array(c_array)\n",
    "#     print(n_array)\n",
    "#     print(c_array)\n",
    "    temp = np.matmul(B_inv,n_array)\n",
    "    minx = np.amax(temp)\n",
    "#     print(temp)\n",
    "    if(minx<=0):\n",
    "        print(\"unbounded\")\n",
    "        flag=1\n",
    "        break\n",
    "    tcb =[]\n",
    "    for i in xb:\n",
    "        tcb.append(z[i])\n",
    "    tcb = np.array(tcb)\n",
    "#     print(tcb)\n",
    "#     print(xb)\n",
    "    temp = np.matmul(tcb,temp)\n",
    "    temp = np.subtract(temp,c_array)\n",
    "    stopper = np.argmin(temp)\n",
    "    if(temp[stopper]>=0):\n",
    "        break\n",
    "#     print(\"entering variable \",xn[stopper])\n",
    "\n",
    "    x = res[:,xn[stopper]]\n",
    "    x = x.reshape(-1,1)\n",
    "#     print(x)\n",
    "    temp1 = np.matmul(B_inv,x)\n",
    "    temp2 = np.matmul(B_inv,b)\n",
    "    for i in range(len(temp1)):\n",
    "        temp2[i] = temp2[i]/temp1[i]\n",
    "    \n",
    "    \n",
    "\n",
    "    m_index = np.where(temp2 > 0, temp2, np.inf).argmin()\n",
    "    a = xb[m_index]\n",
    "    xb[m_index] = xn[stopper]\n",
    "    xn[stopper] = a\n",
    "\n",
    "    B_ = res[:,xb[0]]\n",
    "    B_ = B_.reshape(-1,1)\n",
    "    for i in xb:\n",
    "        y = res[:,i]\n",
    "        y = y.reshape(-1,1)\n",
    "        B_ = np.concatenate((B_,y),axis=1)\n",
    "    B_ = np.delete(B_,0,1)\n",
    "    B=B_\n",
    "    if(np.linalg.det(B) == 0):\n",
    "        flag=1\n",
    "        print(\"unbounded\")\n",
    "        break\n",
    "    B_inv = np.linalg.inv(B)\n",
    "    need = np.matmul(B_inv,n_array)\n",
    "#     print(need,B_inv)\n",
    "    count = count+1\n",
    "\n",
    "if(count == 1000):\n",
    "    flag=1\n",
    "    print(\"unbounded\")"
   ]
  },
  {
   "cell_type": "code",
   "execution_count": 9,
   "metadata": {},
   "outputs": [
    {
     "name": "stdout",
     "output_type": "stream",
     "text": [
      "[90.]\n",
      "[ 0. 30.]\n"
     ]
    }
   ],
   "source": [
    "if(flag==0):\n",
    "    flag3=0\n",
    "    temp = np.matmul(B_inv,b)\n",
    "    sol = np.zeros(len(N[0]))\n",
    "    for i in range(len(xb)):\n",
    "        if(xb[i]<len(N[0])):\n",
    "            sol[xb[i]] = temp[i]\n",
    "        else:\n",
    "            if(temp[i]<0):\n",
    "                print(\"infeasible solution\")\n",
    "                flag3=1\n",
    "                break\n",
    "    if(flag3==0):   # not infeasible\n",
    "#         print(N)\n",
    "        N = N.transpose()\n",
    "#         print(sol[0])\n",
    "        res = np.matmul(sol,N)\n",
    "        flag1=0\n",
    "#         print(res)\n",
    "#         print(b[1][0])\n",
    "        for i in range(len(res)):\n",
    "            if(res[i] - b[i][0] > 0.0000001):\n",
    "#                 print(res[i],b[i][0])\n",
    "                flag1=1\n",
    "#                 print(\"hello\",i)\n",
    "                break\n",
    "        if(flag1!=1):\n",
    "            opt_res = np.matmul(tcb,temp)\n",
    "            print(opt_res)\n",
    "            print(sol)\n",
    "        else:\n",
    "            print(\"hii\")\n",
    "            print(\"infeasible solution\")"
   ]
  },
  {
   "cell_type": "code",
   "execution_count": 10,
   "metadata": {},
   "outputs": [
    {
     "name": "stdout",
     "output_type": "stream",
     "text": [
      "[ 0. 30.]\n"
     ]
    }
   ],
   "source": [
    "print(sol)"
   ]
  },
  {
   "cell_type": "code",
   "execution_count": null,
   "metadata": {},
   "outputs": [],
   "source": []
  }
 ],
 "metadata": {
  "kernelspec": {
   "display_name": "Python 3",
   "language": "python",
   "name": "python3"
  },
  "language_info": {
   "codemirror_mode": {
    "name": "ipython",
    "version": 3
   },
   "file_extension": ".py",
   "mimetype": "text/x-python",
   "name": "python",
   "nbconvert_exporter": "python",
   "pygments_lexer": "ipython3",
   "version": "3.8.1"
  }
 },
 "nbformat": 4,
 "nbformat_minor": 4
}
